{
  "cells": [
    {
      "cell_type": "code",
      "source": [
        "#!pip install tensorflow==2.8.0\n",
        "#!pip install keras==2.8.0\n",
        "#!pip install tensorflow-addons==0.17.0 1"
      ],
      "metadata": {
        "id": "RdjYOGG1fbcd"
      },
      "execution_count": null,
      "outputs": []
    },
    {
      "cell_type": "code",
      "source": [
        "import numpy as np\n",
        "import tensorflow as tf\n",
        "from tensorflow import keras\n",
        "from tensorflow.keras import layers\n",
        "import tensorflow_addons as tfa"
      ],
      "metadata": {
        "id": "7xXBVU5Ogl3E"
      },
      "execution_count": null,
      "outputs": []
    },
    {
      "cell_type": "code",
      "source": [
        "num_classes=10\n",
        "input_shape=(32,32,3)\n",
        "(x_train,y_train),(x_test,y_test) = keras.datasets.cifar10.load_data()\n",
        "print(f\"x_train shape: {x_train.shape} - y_train shape: {y_train.shape}\")\n",
        "print(f\"x_test shape: {x_test.shape} - y_test shape: {y_test.shape}\")"
      ],
      "metadata": {
        "id": "vuvMkaLigz3S",
        "outputId": "56aef260-0517-4ac2-f5a0-690198ebd0cf",
        "colab": {
          "base_uri": "https://localhost:8080/"
        }
      },
      "execution_count": null,
      "outputs": [
        {
          "output_type": "stream",
          "name": "stdout",
          "text": [
            "Downloading data from https://www.cs.toronto.edu/~kriz/cifar-10-python.tar.gz\n",
            "170500096/170498071 [==============================] - 3s 0us/step\n",
            "170508288/170498071 [==============================] - 3s 0us/step\n",
            "x_train shape: (50000, 32, 32, 3) - y_train shape: (50000, 1)\n",
            "x_test shape: (10000, 32, 32, 3) - y_test shape: (10000, 1)\n"
          ]
        }
      ]
    },
    {
      "cell_type": "code",
      "source": [
        "x_train = x_train[:500]\n",
        "y_train = y_train[:500]\n",
        "x_test = x_test[:500]\n",
        "y_test = y_test[:500]"
      ],
      "metadata": {
        "id": "B5q3FaIAmvwa"
      },
      "execution_count": null,
      "outputs": []
    },
    {
      "cell_type": "code",
      "source": [
        "learning_rate = 0.001\n",
        "weight_decay = 0.0001#1e-4\n",
        "batch_size = 256\n",
        "num_epochs = 40  #40\n",
        "image_size = 72 #resize the input image to this size\n",
        "patch_size = 6 #size of the patches to be extracted from the input images\n",
        "num_patches = (image_size // patch_size) ** 2\n",
        "num_heads = 4\n",
        "projection_dim = 64\n",
        "transformer_units = [\n",
        "    projection_dim * 2,\n",
        "    projection_dim\n",
        "] #size of the transformer layers\n",
        "transformer_layers = 8\n",
        "mlp_head_units = [2048, 1024] #size of the dense layers of the final classifiers"
      ],
      "metadata": {
        "id": "7kvOyxaam1oJ"
      },
      "execution_count": null,
      "outputs": []
    },
    {
      "cell_type": "code",
      "source": [
        "data_augumentation = keras.Sequential(\n",
        "    [\n",
        "    layers.Normalization(),\n",
        "    layers.Resizing(image_size, image_size),\n",
        "    layers.RandomFlip(\"horizontal\"),\n",
        "    layers.RandomRotation(factor=0.02),\n",
        "    layers.RandomZoom(height_factor=0.2, width_factor=0.2)\n",
        "    ],\n",
        "    name=\"data_augmentation\"\n",
        ")\n",
        "data_augumentation.layers[0].adapt(x_train)"
      ],
      "metadata": {
        "id": "yt_XzU4Im-8x"
      },
      "execution_count": null,
      "outputs": []
    },
    {
      "cell_type": "code",
      "source": [
        "def mlp(x,hidden_units,dropout_rate):\n",
        "    for units in hidden_units:\n",
        "        x = layers.Dense(units,activation=tf.nn.gelu)(x)\n",
        "        x = layers.Dropout(dropout_rate)(x)\n",
        "    return x"
      ],
      "metadata": {
        "id": "yEmu1Py9nEeh"
      },
      "execution_count": null,
      "outputs": []
    },
    {
      "cell_type": "code",
      "source": [
        "class Patches(layers.Layer):\n",
        "    def __init__(self,patch_size):\n",
        "        super(Patches,self).__init__()\n",
        "        self.patch_size = patch_size\n",
        "\n",
        "\n",
        "    def call(self,images):\n",
        "        batch_size = tf.shape(images)[0]\n",
        "        patches = tf.image.extract_patches(\n",
        "            images = images,\n",
        "            sizes = [1,self.patch_size,self.patch_size,1],\n",
        "            strides = [1,self.patch_size,self.patch_size,1],\n",
        "            rates = [1,1,1,1],\n",
        "            padding = \"VALID\"\n",
        "        )\n",
        "        patch_dims = patches.shape[-1]\n",
        "        patches = tf.reshape(patches,shape=(batch_size, -1, patch_dims))\n",
        "        return patches"
      ],
      "metadata": {
        "id": "1RifCYTAnFxE"
      },
      "execution_count": null,
      "outputs": []
    },
    {
      "cell_type": "code",
      "source": [
        "import matplotlib.pyplot as plt\n",
        "\n",
        "plt.figure(figsize=(4,4))\n",
        "image = x_train[np.random.choice(range(x_train.shape[0]))]\n",
        "plt.imshow(image.astype(\"uint8\"))\n",
        "plt.axis(\"off\")\n",
        "\n",
        "\n",
        "resized_image = tf.image.resize(\n",
        "    tf.convert_to_tensor([image]),\n",
        "    size = (image_size,image_size)\n",
        ")\n",
        "\n",
        "patches = Patches(patch_size)(resized_image)\n",
        "print(f\"Image size: {image_size} X {image_size}\")\n",
        "print(f\"Patch size: {patch_size} X {patch_size}\")\n",
        "print(f\"Patches per image: {patches.shape[1]}\")\n",
        "print(f\"Elements per patch: {patches.shape[-1]}\\n\")\n",
        "\n",
        "\n",
        "n = int(np.sqrt(patches.shape[1]))\n",
        "plt.figure(figsize=(4,4))\n",
        "for i, patch in enumerate(patches[0]):\n",
        "    ax = plt.subplot(n,n,i+1)\n",
        "    patch_img = tf.reshape(patch, (patch_size,patch_size,3))\n",
        "    plt.imshow(patch_img.numpy().astype(\"uint8\"))\n",
        "    plt.axis(\"off\")\n",
        "\n",
        "  # Adjust these values as needed\n",
        "plt.show()"
      ],
      "metadata": {
        "id": "yi5TsUBjnIm3",
        "outputId": "5b2c6836-2dc3-41a4-9984-ff24a0ca8adb",
        "colab": {
          "base_uri": "https://localhost:8080/",
          "height": 760
        }
      },
      "execution_count": null,
      "outputs": [
        {
          "output_type": "stream",
          "name": "stdout",
          "text": [
            "Image size: 72 X 72\n",
            "Patch size: 6 X 6\n",
            "Patches per image: 144\n",
            "Elements per patch: 108\n",
            "\n"
          ]
        },
        {
          "output_type": "display_data",
          "data": {
            "text/plain": [
              "<Figure size 400x400 with 1 Axes>"
            ],
            "image/png": "[encoded data removed]"
          },
          "metadata": {}
        },
        {
          "output_type": "display_data",
          "data": {
            "text/plain": [
              "<Figure size 400x400 with 144 Axes>"
            ],
            "image/png": "[encoded data removed]"
          },
          "metadata": {}
        }
      ]
    },
    {
      "cell_type": "code",
      "source": [
        "class PatchEncoder(layers.Layer):\n",
        "    def __init__(self,num_patches,projection_dim):\n",
        "        super(PatchEncoder,self).__init__()\n",
        "        self.num_patches = num_patches\n",
        "        self.projection = layers.Dense(units=projection_dim)\n",
        "        self.position_embedding = layers.Embedding(\n",
        "            input_dim = num_patches,\n",
        "            output_dim = projection_dim\n",
        "        )\n",
        "    def call(self,patches):\n",
        "        positions = tf.range(start=0,limit=self.num_patches,delta=1)\n",
        "        encoded = self.projection(patches) + self.position_embedding(positions)\n",
        "        return encoded\n"
      ],
      "metadata": {
        "id": "qIdX3rLRna2q"
      },
      "execution_count": null,
      "outputs": []
    },
    {
      "cell_type": "code",
      "source": [
        "def create_vit_classifier():\n",
        "  inputs = layers.Input(shape=input_shape)\n",
        "  #Augument data\n",
        "  augmented = data_augumentation(inputs)\n",
        "  patches = Patches(patch_size)(augmented)\n",
        "  #encode patches\n",
        "  encoded_patches = PatchEncoder(num_patches,projection_dim)(patches)\n",
        "\n",
        "\n",
        "  #create multiple layers of the transformer block\n",
        "  for _ in range(transformer_layers):\n",
        "    # layer normalization\n",
        "    x1 = layers.LayerNormalization(epsilon=1e-6)(encoded_patches)\n",
        "    #create multi-head attention layer\n",
        "    attention_output = layers.MultiHeadAttention(\n",
        "        num_heads = num_heads,\n",
        "        key_dim = projection_dim,\n",
        "        dropout = 0.1\n",
        "    )(x1,x1)\n",
        "    #add skip connection1\n",
        "    x2 = layers.Add()([attention_output,encoded_patches])\n",
        "    #layer normalization 2\n",
        "    x3 = layers.LayerNormalization(epsilon=1e-6)(x2)\n",
        "    #feed forward block mlp\n",
        "    x3 = mlp(x3,hidden_units=transformer_units,dropout_rate=0.1)\n",
        "    #add skip connection2\n",
        "    encoded_patches = layers.Add()([x3,x2])\n",
        "\n",
        "    #create a [batch_size,projection_dim] tensor\n",
        "    representation = layers.LayerNormalization(epsilon=1e-6)(encoded_patches)\n",
        "    representation = layers.Flatten()(representation)\n",
        "    representation = layers.Dropout(0.5)(representation)\n",
        "\n",
        "    #Add mlp\n",
        "    features = mlp(representation,hidden_units=mlp_head_units,dropout_rate=0.5)\n",
        "    #Classify outputs\n",
        "    logits = layers.Dense(num_classes)(features)\n",
        "    #create model\n",
        "    model = keras.Model(inputs=inputs,outputs=logits)\n",
        "    return model"
      ],
      "metadata": {
        "id": "-drJlPfPncHY"
      },
      "execution_count": null,
      "outputs": []
    },
    {
      "cell_type": "code",
      "source": [
        "def run_experiment(model):\n",
        "\n",
        "  optimizer = tfa.optimizers.AdamW(\n",
        "      learning_rate = learning_rate,\n",
        "      weight_decay = weight_decay\n",
        "  )\n",
        "\n",
        "  model.compile(\n",
        "      optimizer = optimizer,\n",
        "      loss = keras.losses.SparseCategoricalCrossentropy(from_logits=True),\n",
        "      metrics = [\n",
        "          keras.metrics.SparseCategoricalAccuracy(name=\"accuracy\"),\n",
        "          keras.metrics.SparseTopKCategoricalAccuracy(5,name=\"top_5_accuracy\"),\n",
        "      ],\n",
        "  )\n",
        "  checkpoint_filepath = \"./tmp/checkpoint\"\n",
        "  checkpoint_callback = keras.callbacks.ModelCheckpoint(\n",
        "       checkpoint_filepath,\n",
        "       monitor = \"val_accuracy\",\n",
        "       save_best_only = True,\n",
        "       save_weights_only = True,\n",
        "  )\n",
        "\n",
        "  history = model.fit(\n",
        "      x = x_train,\n",
        "      y = y_train,\n",
        "      batch_size = batch_size,\n",
        "      epochs = num_epochs,\n",
        "      validation_split = 0.1,\n",
        "      callbacks = [checkpoint_callback],\n",
        "  )\n",
        "  model.load_weights(checkpoint_filepath)\n",
        "  _, accuracy, top_5_accuracy= model.evaluate(x_test,y_test)\n",
        "  print(f\"Test accuracy: {round(accuracy*100,2)}%\")\n",
        "  print(f\"Test top-5 accuracy: {round(top_5_accuracy*100,2)}%\")\n",
        "\n",
        "  return history"
      ],
      "metadata": {
        "id": "kkav8nVmnfaQ"
      },
      "execution_count": null,
      "outputs": []
    },
    {
      "cell_type": "code",
      "source": [
        "vit_classifier = create_vit_classifier()\n",
        "history = run_experiment(vit_classifier)"
      ],
      "metadata": {
        "id": "mdMB6ngnni9R",
        "outputId": "e66a248f-7b71-43f2-ee3e-4bfb4196c66b",
        "colab": {
          "base_uri": "https://localhost:8080/"
        }
      },
      "execution_count": null,
      "outputs": [
        {
          "output_type": "stream",
          "name": "stdout",
          "text": [
            "Epoch 1/40\n",
            "2/2 [==============================] - 14s 6s/step - loss: 5.9779 - accuracy: 0.1111 - top_5_accuracy: 0.5333 - val_loss: 5.6203 - val_accuracy: 0.2200 - val_top_5_accuracy: 0.5600\n",
            "Epoch 2/40\n",
            "2/2 [==============================] - 7s 3s/step - loss: 6.2703 - accuracy: 0.1867 - top_5_accuracy: 0.6689 - val_loss: 4.6037 - val_accuracy: 0.2000 - val_top_5_accuracy: 0.6000\n",
            "Epoch 3/40\n",
            "2/2 [==============================] - 9s 3s/step - loss: 4.6279 - accuracy: 0.2578 - top_5_accuracy: 0.7222 - val_loss: 3.1612 - val_accuracy: 0.1800 - val_top_5_accuracy: 0.6400\n",
            "Epoch 4/40\n",
            "2/2 [==============================] - 7s 3s/step - loss: 3.3236 - accuracy: 0.2778 - top_5_accuracy: 0.7689 - val_loss: 2.5345 - val_accuracy: 0.2800 - val_top_5_accuracy: 0.7600\n",
            "Epoch 5/40\n",
            "2/2 [==============================] - 8s 3s/step - loss: 2.9927 - accuracy: 0.3022 - top_5_accuracy: 0.7800 - val_loss: 1.9838 - val_accuracy: 0.3800 - val_top_5_accuracy: 0.8000\n",
            "Epoch 6/40\n",
            "2/2 [==============================] - 7s 3s/step - loss: 2.5136 - accuracy: 0.3067 - top_5_accuracy: 0.8000 - val_loss: 2.0164 - val_accuracy: 0.2000 - val_top_5_accuracy: 0.8000\n",
            "Epoch 7/40\n",
            "2/2 [==============================] - 7s 3s/step - loss: 2.2701 - accuracy: 0.3400 - top_5_accuracy: 0.8156 - val_loss: 2.0064 - val_accuracy: 0.1800 - val_top_5_accuracy: 0.8400\n",
            "Epoch 8/40\n",
            "2/2 [==============================] - 7s 4s/step - loss: 1.9902 - accuracy: 0.3311 - top_5_accuracy: 0.8778 - val_loss: 1.9459 - val_accuracy: 0.2200 - val_top_5_accuracy: 0.8600\n",
            "Epoch 9/40\n",
            "2/2 [==============================] - 7s 3s/step - loss: 1.8236 - accuracy: 0.3933 - top_5_accuracy: 0.8711 - val_loss: 1.9396 - val_accuracy: 0.2400 - val_top_5_accuracy: 0.8800\n",
            "Epoch 10/40\n",
            "2/2 [==============================] - 7s 4s/step - loss: 1.8758 - accuracy: 0.4067 - top_5_accuracy: 0.8600 - val_loss: 1.9102 - val_accuracy: 0.2200 - val_top_5_accuracy: 0.8400\n",
            "Epoch 11/40\n",
            "2/2 [==============================] - 6s 3s/step - loss: 1.8217 - accuracy: 0.3867 - top_5_accuracy: 0.8644 - val_loss: 1.9274 - val_accuracy: 0.2400 - val_top_5_accuracy: 0.8200\n",
            "Epoch 12/40\n",
            "2/2 [==============================] - 8s 4s/step - loss: 1.7981 - accuracy: 0.3844 - top_5_accuracy: 0.8978 - val_loss: 1.9188 - val_accuracy: 0.2400 - val_top_5_accuracy: 0.8400\n",
            "Epoch 13/40\n",
            "2/2 [==============================] - 6s 3s/step - loss: 1.7105 - accuracy: 0.4222 - top_5_accuracy: 0.8956 - val_loss: 1.8954 - val_accuracy: 0.2000 - val_top_5_accuracy: 0.8400\n",
            "Epoch 14/40\n",
            "2/2 [==============================] - 8s 4s/step - loss: 1.6435 - accuracy: 0.4467 - top_5_accuracy: 0.8867 - val_loss: 1.8915 - val_accuracy: 0.2400 - val_top_5_accuracy: 0.8400\n",
            "Epoch 15/40\n",
            "2/2 [==============================] - 6s 3s/step - loss: 1.6347 - accuracy: 0.4444 - top_5_accuracy: 0.9111 - val_loss: 1.8529 - val_accuracy: 0.2400 - val_top_5_accuracy: 0.8200\n",
            "Epoch 16/40\n",
            "2/2 [==============================] - 7s 4s/step - loss: 1.5953 - accuracy: 0.4644 - top_5_accuracy: 0.9000 - val_loss: 1.8371 - val_accuracy: 0.2200 - val_top_5_accuracy: 0.8200\n",
            "Epoch 17/40\n",
            "2/2 [==============================] - 6s 3s/step - loss: 1.4398 - accuracy: 0.4778 - top_5_accuracy: 0.9378 - val_loss: 1.8644 - val_accuracy: 0.1400 - val_top_5_accuracy: 0.8600\n",
            "Epoch 18/40\n",
            "2/2 [==============================] - 7s 4s/step - loss: 1.4442 - accuracy: 0.4733 - top_5_accuracy: 0.9444 - val_loss: 1.8988 - val_accuracy: 0.1600 - val_top_5_accuracy: 0.8200\n",
            "Epoch 19/40\n",
            "2/2 [==============================] - 6s 3s/step - loss: 1.2836 - accuracy: 0.5467 - top_5_accuracy: 0.9400 - val_loss: 1.8756 - val_accuracy: 0.2400 - val_top_5_accuracy: 0.8000\n",
            "Epoch 20/40\n",
            "2/2 [==============================] - 8s 3s/step - loss: 1.3531 - accuracy: 0.5422 - top_5_accuracy: 0.9222 - val_loss: 1.8832 - val_accuracy: 0.2200 - val_top_5_accuracy: 0.8200\n",
            "Epoch 21/40\n",
            "2/2 [==============================] - 6s 3s/step - loss: 1.3325 - accuracy: 0.5333 - top_5_accuracy: 0.9422 - val_loss: 1.8654 - val_accuracy: 0.2000 - val_top_5_accuracy: 0.8400\n",
            "Epoch 22/40\n",
            "2/2 [==============================] - 7s 3s/step - loss: 1.2711 - accuracy: 0.5711 - top_5_accuracy: 0.9356 - val_loss: 1.8711 - val_accuracy: 0.2400 - val_top_5_accuracy: 0.8200\n",
            "Epoch 23/40\n",
            "2/2 [==============================] - 7s 3s/step - loss: 1.1729 - accuracy: 0.5778 - top_5_accuracy: 0.9489 - val_loss: 1.8954 - val_accuracy: 0.2200 - val_top_5_accuracy: 0.8600\n",
            "Epoch 24/40\n",
            "2/2 [==============================] - 7s 3s/step - loss: 1.1861 - accuracy: 0.5733 - top_5_accuracy: 0.9689 - val_loss: 1.9545 - val_accuracy: 0.2000 - val_top_5_accuracy: 0.8600\n",
            "Epoch 25/40\n",
            "2/2 [==============================] - 6s 3s/step - loss: 1.1308 - accuracy: 0.6067 - top_5_accuracy: 0.9667 - val_loss: 1.9711 - val_accuracy: 0.2000 - val_top_5_accuracy: 0.8400\n",
            "Epoch 26/40\n",
            "2/2 [==============================] - 8s 3s/step - loss: 1.1563 - accuracy: 0.6022 - top_5_accuracy: 0.9733 - val_loss: 1.9915 - val_accuracy: 0.2400 - val_top_5_accuracy: 0.8400\n",
            "Epoch 27/40\n",
            "2/2 [==============================] - 7s 3s/step - loss: 1.1065 - accuracy: 0.6444 - top_5_accuracy: 0.9622 - val_loss: 2.0282 - val_accuracy: 0.2400 - val_top_5_accuracy: 0.8200\n",
            "Epoch 28/40\n",
            "2/2 [==============================] - 7s 3s/step - loss: 0.9039 - accuracy: 0.6867 - top_5_accuracy: 0.9778 - val_loss: 2.1012 - val_accuracy: 0.2800 - val_top_5_accuracy: 0.8200\n",
            "Epoch 29/40\n",
            "2/2 [==============================] - 7s 4s/step - loss: 0.9788 - accuracy: 0.6400 - top_5_accuracy: 0.9778 - val_loss: 2.1725 - val_accuracy: 0.2800 - val_top_5_accuracy: 0.8400\n",
            "Epoch 30/40\n",
            "2/2 [==============================] - 6s 3s/step - loss: 0.8655 - accuracy: 0.7000 - top_5_accuracy: 0.9778 - val_loss: 2.2251 - val_accuracy: 0.2800 - val_top_5_accuracy: 0.8400\n",
            "Epoch 31/40\n",
            "2/2 [==============================] - 7s 4s/step - loss: 0.8047 - accuracy: 0.7178 - top_5_accuracy: 0.9911 - val_loss: 2.2707 - val_accuracy: 0.2600 - val_top_5_accuracy: 0.8600\n",
            "Epoch 32/40\n",
            "2/2 [==============================] - 6s 3s/step - loss: 0.7412 - accuracy: 0.7400 - top_5_accuracy: 0.9867 - val_loss: 2.3458 - val_accuracy: 0.2800 - val_top_5_accuracy: 0.8400\n",
            "Epoch 33/40\n",
            "2/2 [==============================] - 7s 4s/step - loss: 0.8913 - accuracy: 0.6778 - top_5_accuracy: 0.9933 - val_loss: 2.3604 - val_accuracy: 0.2200 - val_top_5_accuracy: 0.8200\n",
            "Epoch 34/40\n",
            "2/2 [==============================] - 6s 3s/step - loss: 0.8235 - accuracy: 0.7000 - top_5_accuracy: 0.9844 - val_loss: 2.4042 - val_accuracy: 0.2400 - val_top_5_accuracy: 0.8000\n",
            "Epoch 35/40\n",
            "2/2 [==============================] - 7s 4s/step - loss: 0.7005 - accuracy: 0.7400 - top_5_accuracy: 0.9933 - val_loss: 2.5008 - val_accuracy: 0.2000 - val_top_5_accuracy: 0.8400\n",
            "Epoch 36/40\n",
            "2/2 [==============================] - 6s 3s/step - loss: 0.6946 - accuracy: 0.7533 - top_5_accuracy: 0.9933 - val_loss: 2.5575 - val_accuracy: 0.1800 - val_top_5_accuracy: 0.8200\n",
            "Epoch 37/40\n",
            "2/2 [==============================] - 7s 4s/step - loss: 0.6928 - accuracy: 0.7689 - top_5_accuracy: 0.9844 - val_loss: 2.5807 - val_accuracy: 0.2000 - val_top_5_accuracy: 0.8200\n",
            "Epoch 38/40\n",
            "2/2 [==============================] - 6s 3s/step - loss: 0.5893 - accuracy: 0.7689 - top_5_accuracy: 0.9889 - val_loss: 2.5710 - val_accuracy: 0.2600 - val_top_5_accuracy: 0.8600\n",
            "Epoch 39/40\n",
            "2/2 [==============================] - 7s 4s/step - loss: 0.5705 - accuracy: 0.8111 - top_5_accuracy: 0.9844 - val_loss: 2.6191 - val_accuracy: 0.2800 - val_top_5_accuracy: 0.8600\n",
            "Epoch 40/40\n",
            "2/2 [==============================] - 6s 3s/step - loss: 0.6536 - accuracy: 0.7556 - top_5_accuracy: 0.9889 - val_loss: 2.7820 - val_accuracy: 0.2600 - val_top_5_accuracy: 0.8600\n",
            "16/16 [==============================] - 2s 115ms/step - loss: 2.2163 - accuracy: 0.2640 - top_5_accuracy: 0.7780\n",
            "Test accuracy: 26.4%\n",
            "Test top-5 accuracy: 77.8%\n"
          ]
        }
      ]
    },
    {
      "cell_type": "code",
      "source": [
        "class_names = [\"airplane\",\"bird\",\"cat\",\"deer\",\"dog\",\"frog\",\"horse\",\"ship\",\"truck\"]"
      ],
      "metadata": {
        "id": "a45AK4Ggnl1l"
      },
      "execution_count": null,
      "outputs": []
    },
    {
      "cell_type": "code",
      "source": [
        "def img_predict(images,model):\n",
        "  if len(images.shape) == 3:\n",
        "    out = model.predict(images.reshape(-1, *images.shape))\n",
        "  else:\n",
        "    out = model.predict(images)\n",
        "  prediction = np.argmax(out, axis=1)\n",
        "  img_prediction = [class_names[i] for i in prediction]\n",
        "  return img_prediction"
      ],
      "metadata": {
        "id": "2eRbKRH2nsGv"
      },
      "execution_count": null,
      "outputs": []
    },
    {
      "cell_type": "code",
      "source": [
        "index = 10\n",
        "plt.imshow(x_test[index])\n",
        "prediction = img_predict(x_test[index],vit_classifier)\n",
        "print(prediction)"
      ],
      "metadata": {
        "id": "FE0RoNytnwo8",
        "outputId": "cd9a2412-a6fb-43ef-c015-98bd33d2651c",
        "colab": {
          "base_uri": "https://localhost:8080/",
          "height": 447
        }
      },
      "execution_count": null,
      "outputs": [
        {
          "output_type": "stream",
          "name": "stdout",
          "text": [
            "['bird']\n"
          ]
        },
        {
          "output_type": "display_data",
          "data": {
            "text/plain": [
              "<Figure size 640x480 with 1 Axes>"
            ],
            "image/png": "[encoded data removed]"
          },
          "metadata": {}
        }
      ]
    },
    {
      "cell_type": "code",
      "source": [],
      "metadata": {
        "id": "UDRX8Mtbn1Dm"
      },
      "execution_count": null,
      "outputs": []
    }
  ],
  "metadata": {
    "colab": {
      "provenance": []
    },
    "kernelspec": {
      "display_name": "Python 3",
      "name": "python3"
    }
  },
  "nbformat": 4,
  "nbformat_minor": 0
}